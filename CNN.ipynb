{
 "cells": [
  {
   "cell_type": "code",
   "execution_count": 19,
   "metadata": {},
   "outputs": [
    {
     "name": "stdout",
     "output_type": "stream",
     "text": [
      "2.2.0\n"
     ]
    }
   ],
   "source": [
    "import os\n",
    "import tensorflow as tf\n",
    "from tensorflow.keras import layers\n",
    "from tensorflow.keras import Model\n",
    "from os import getcwd\n",
    "import sys\n",
    "\n",
    "#and print TensorFlow Version\n",
    "print(tf.__version__)"
   ]
  },
  {
   "cell_type": "code",
   "execution_count": 2,
   "metadata": {},
   "outputs": [],
   "source": [
    "class myCallback(tf.keras.callbacks.Callback):\n",
    "    def on_epoch_end(self,epoch,logs={}):\n",
    "        if(logs.get('acc')>=0.99):\n",
    "            print(\"\\nReached 99% accuracy \")\n",
    "            self.model.stop_training = True\n",
    "\n",
    "callbacks = myCallback()"
   ]
  },
  {
   "cell_type": "code",
   "execution_count": 22,
   "metadata": {},
   "outputs": [
    {
     "name": "stdout",
     "output_type": "stream",
     "text": [
      "115\n",
      "186\n",
      "16\n",
      "23\n"
     ]
    }
   ],
   "source": [
    "# Define dirs and files\n",
    "train_dir = '../data/training/'\n",
    "validation_dir = '../data/validation/'\n",
    "\n",
    "train_wash_dir = os.path.join(train_dir,'wash')\n",
    "train_nowash_dir = os.path.join(train_dir,'nowash')\n",
    "validation_wash_dir = os.path.join(validation_dir,'wash')\n",
    "validation_nowash_dir = os.path.join(validation_dir,'nowash')\n",
    "\n",
    "train_wash_fnames = os.listdir(train_wash_dir)\n",
    "train_nowash_fnames = os.listdir(train_nowash_dir)\n",
    "validation_wash_fnames = os.listdir(validation_wash_dir)\n",
    "validation_nowash_fnames = os.listdir(validation_nowash_dir)\n",
    "\n",
    "\n",
    "print(len(os.listdir(train_wash_dir)))\n",
    "print(len(os.listdir(train_nowash_dir)))\n",
    "print(len(os.listdir(validation_wash_dir)))\n",
    "print(len(os.listdir(validation_nowash_dir)))\n",
    "\n",
    "total_train=len(os.listdir(train_wash_dir))+ len(os.listdir(train_nowash_dir))\n",
    "total_val=len(os.listdir(validation_wash_dir))+ len(os.listdir(validation_nowash_dir))"
   ]
  },
  {
   "cell_type": "code",
   "execution_count": 8,
   "metadata": {},
   "outputs": [
    {
     "name": "stdout",
     "output_type": "stream",
     "text": [
      "Found 301 images belonging to 2 classes.\n",
      "Found 39 images belonging to 2 classes.\n"
     ]
    }
   ],
   "source": [
    "from tensorflow.keras.preprocessing.image import ImageDataGenerator\n",
    "\n",
    "# Add our data-augmentation parameters to ImageDataGenerator\n",
    "train_datagen = ImageDataGenerator( rescale =1./255.,\n",
    "                                   rotation_range = 40,\n",
    "                                   width_shift_range = 0.2,\n",
    "                                   height_shift_range = 0.2,\n",
    "                                   shear_range = 0.2,\n",
    "                                   zoom_range = 0.2,\n",
    "                                   horizontal_flip = True)\n",
    "\n",
    "# rescale val data\n",
    "val_datagen = ImageDataGenerator(rescale = 1./255.)\n",
    "\n",
    "#set batch Size\n",
    "batch_size = 10\n",
    "\n",
    "# Flow training images in batches \n",
    "train_generator = train_datagen.flow_from_directory(train_dir,\n",
    "                                                    batch_size = batch_size,\n",
    "                                                    class_mode = 'binary',\n",
    "                                                    target_size = (300,300))\n",
    "\n",
    "# Flow validation images in batches \n",
    "validation_generator =  val_datagen.flow_from_directory( validation_dir,\n",
    "                                                         batch_size = batch_size,\n",
    "                                                         class_mode = 'binary',\n",
    "                                                         target_size = (300,300))\n"
   ]
  },
  {
   "cell_type": "code",
   "execution_count": 11,
   "metadata": {},
   "outputs": [],
   "source": [
    "#sample model\n",
    "model = tf.keras.models.Sequential([\n",
    "    #  input shape is size of the image 300x300 with 3 bytes color\n",
    "    #first convolution\n",
    "    tf.keras.layers.Conv2D(16, (3,3), activation='relu', input_shape=(300, 300, 3)),\n",
    "    tf.keras.layers.MaxPooling2D(2, 2),\n",
    "    # second convolution\n",
    "    tf.keras.layers.Conv2D(32, (3,3), activation='relu'),\n",
    "    tf.keras.layers.MaxPooling2D(2,2),\n",
    "    # third convolution\n",
    "    tf.keras.layers.Conv2D(64, (3,3), activation='relu'),\n",
    "    tf.keras.layers.MaxPooling2D(2,2),\n",
    "    # fourth convolution\n",
    "    tf.keras.layers.Conv2D(64, (3,3), activation='relu'),\n",
    "    tf.keras.layers.MaxPooling2D(2,2),\n",
    "    # fifth convolution\n",
    "    tf.keras.layers.Conv2D(64, (3,3), activation='relu'),\n",
    "    tf.keras.layers.MaxPooling2D(2,2),\n",
    "    # Flatten for the DNN\n",
    "    tf.keras.layers.Flatten(),\n",
    "    # hidden layerw/ 512 neurons\n",
    "    tf.keras.layers.Dense(512, activation='relu'),\n",
    "    # 1 output neuron. 0 for 'washover' and 1 for 'no wash'\n",
    "    tf.keras.layers.Dense(1, activation='sigmoid')\n",
    "])"
   ]
  },
  {
   "cell_type": "code",
   "execution_count": 12,
   "metadata": {},
   "outputs": [],
   "source": [
    "All_The_Metrics = [\n",
    "      tf.keras.metrics.TruePositives(name='tp'),\n",
    "      tf.keras.metrics.FalsePositives(name='fp'),\n",
    "      tf.keras.metrics.TrueNegatives(name='tn'),\n",
    "      tf.keras.metrics.FalseNegatives(name='fn'), \n",
    "      tf.keras.metrics.BinaryAccuracy(name='acc'),\n",
    "      tf.keras.metrics.Precision(name='precision'),\n",
    "      tf.keras.metrics.Recall(name='recall'),\n",
    "      tf.keras.metrics.AUC(name='auc'),\n",
    "]\n"
   ]
  },
  {
   "cell_type": "code",
   "execution_count": 13,
   "metadata": {},
   "outputs": [],
   "source": [
    "from tensorflow.keras.optimizers import RMSprop\n",
    "\n",
    "model.compile(loss='binary_crossentropy',\n",
    "              optimizer=RMSprop(lr=1e-4),\n",
    "              metrics=All_The_Metrics)"
   ]
  },
  {
   "cell_type": "code",
   "execution_count": 14,
   "metadata": {},
   "outputs": [
    {
     "name": "stdout",
     "output_type": "stream",
     "text": [
      "WARNING:tensorflow:From <ipython-input-14-ae9ae07660c5>:2: Model.fit_generator (from tensorflow.python.keras.engine.training) is deprecated and will be removed in a future version.\n",
      "Instructions for updating:\n",
      "Please use Model.fit, which supports generators.\n",
      "Epoch 1/2\n",
      "30/30 [==============================] - 64s 2s/step - loss: 0.6470 - tp: 4.0000 - fp: 4.0000 - tn: 182.0000 - fn: 110.0000 - acc: 0.6200 - precision: 0.5000 - recall: 0.0351 - auc: 0.6358 - val_loss: 0.6549 - val_tp: 0.0000e+00 - val_fp: 0.0000e+00 - val_tn: 18.0000 - val_fn: 12.0000 - val_acc: 0.6000 - val_precision: 0.0000e+00 - val_recall: 0.0000e+00 - val_auc: 0.6944\n",
      "Epoch 2/2\n",
      "30/30 [==============================] - 64s 2s/step - loss: 0.6068 - tp: 11.0000 - fp: 1.0000 - tn: 176.0000 - fn: 103.0000 - acc: 0.6426 - precision: 0.9167 - recall: 0.0965 - auc: 0.7729 - val_loss: 0.6352 - val_tp: 6.0000 - val_fp: 7.0000 - val_tn: 11.0000 - val_fn: 6.0000 - val_acc: 0.5667 - val_precision: 0.4615 - val_recall: 0.5000 - val_auc: 0.7130\n"
     ]
    }
   ],
   "source": [
    "callbacks = myCallback()\n",
    "\n",
    "history = model.fit_generator(train_generator,\n",
    "                              steps_per_epoch = total_train // batch_size,\n",
    "                              validation_data = validation_generator,\n",
    "                              epochs= 10,\n",
    "                              validation_steps =  total_val // batch_size,\n",
    "                              callbacks =[callbacks])"
   ]
  },
  {
   "cell_type": "code",
   "execution_count": 15,
   "metadata": {},
   "outputs": [
    {
     "data": {
      "image/png": "[encoded data removed]",
      "text/plain": [
       "<Figure size 432x288 with 1 Axes>"
      ]
     },
     "metadata": {
      "needs_background": "light"
     },
     "output_type": "display_data"
    },
    {
     "data": {
      "text/plain": [
       "<Figure size 432x288 with 0 Axes>"
      ]
     },
     "metadata": {},
     "output_type": "display_data"
    }
   ],
   "source": [
    "%matplotlib inline\n",
    "import matplotlib.pyplot as plt\n",
    "acc = history.history['acc']\n",
    "val_acc = history.history['val_acc']\n",
    "loss = history.history['loss']\n",
    "val_loss = history.history['val_loss']\n",
    "\n",
    "epochs = range(len(acc))\n",
    "\n",
    "plt.plot(epochs, acc, 'r', label='Training accuracy')\n",
    "plt.plot(epochs, val_acc, 'b', label='Validation accuracy')\n",
    "plt.title('Training and validation accuracy')\n",
    "plt.legend(loc=0)\n",
    "plt.figure()\n",
    "\n",
    "\n",
    "plt.show()"
   ]
  },
  {
   "cell_type": "code",
   "execution_count": 16,
   "metadata": {},
   "outputs": [],
   "source": [
    "#Look and convolutions\n",
    "#look at prediction successes and failures\n"
   ]
  },
  {
   "cell_type": "code",
   "execution_count": 17,
   "metadata": {},
   "outputs": [
    {
     "data": {
      "image/png": "[encoded data removed]",
      "text/plain": [
       "<Figure size 432x288 with 4 Axes>"
      ]
     },
     "metadata": {
      "needs_background": "light"
     },
     "output_type": "display_data"
    }
   ],
   "source": [
    "colors = plt.rcParams['axes.prop_cycle'].by_key()['color']\n",
    "def plot_metrics(history):\n",
    "  metrics =  ['loss', 'auc', 'precision', 'recall']\n",
    "  for n, metric in enumerate(metrics):\n",
    "    name = metric.replace(\"_\",\" \").capitalize()\n",
    "    plt.subplot(2,2,n+1)\n",
    "    plt.plot(history.epoch,  history.history[metric], color=colors[0], label='Train')\n",
    "    plt.plot(history.epoch, history.history['val_'+metric],\n",
    "             color=colors[0], linestyle=\"--\", label='Val')\n",
    "    plt.xlabel('Epoch')\n",
    "    plt.ylabel(name)\n",
    "    if metric == 'loss':\n",
    "      plt.ylim([0, plt.ylim()[1]])\n",
    "    elif metric == 'auc':\n",
    "      plt.ylim([0.8,1])\n",
    "    else:\n",
    "      plt.ylim([0,1])\n",
    "\n",
    "    plt.legend()\n",
    "\n",
    "plot_metrics(history)\n"
   ]
  },
  {
   "cell_type": "code",
   "execution_count": null,
   "metadata": {},
   "outputs": [],
   "source": []
  }
 ],
 "metadata": {
  "kernelspec": {
   "display_name": "Python 3",
   "language": "python",
   "name": "python3"
  },
  "language_info": {
   "codemirror_mode": {
    "name": "ipython",
    "version": 3
   },
   "file_extension": ".py",
   "mimetype": "text/x-python",
   "name": "python",
   "nbconvert_exporter": "python",
   "pygments_lexer": "ipython3",
   "version": "3.8.2"
  }
 },
 "nbformat": 4,
 "nbformat_minor": 2
}
