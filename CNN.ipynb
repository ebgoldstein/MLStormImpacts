{
 "cells": [
  {
   "cell_type": "code",
   "execution_count": 1,
   "metadata": {},
   "outputs": [
    {
     "name": "stderr",
     "output_type": "stream",
     "text": [
      "/usr/lib/python3/dist-packages/h5py/__init__.py:36: FutureWarning: Conversion of the second argument of issubdtype from `float` to `np.floating` is deprecated. In future, it will be treated as `np.float64 == np.dtype(float).type`.\n",
      "  from ._conv import register_converters as _register_converters\n"
     ]
    }
   ],
   "source": [
    "import os\n",
    "import tensorflow as tf\n",
    "from tensorflow.keras import layers\n",
    "from tensorflow.keras import Model\n",
    "from os import getcwd"
   ]
  },
  {
   "cell_type": "code",
   "execution_count": 2,
   "metadata": {},
   "outputs": [],
   "source": [
    "class myCallback(tf.keras.callbacks.Callback):\n",
    "    def on_epoch_end(self,epoch,logs={}):\n",
    "        if(logs.get('acc')>=0.99):\n",
    "            print(\"\\nReached 99% accuracy \")\n",
    "            self.model.stop_training = True\n",
    "\n",
    "callbacks = myCallback()"
   ]
  },
  {
   "cell_type": "code",
   "execution_count": 9,
   "metadata": {},
   "outputs": [
    {
     "name": "stdout",
     "output_type": "stream",
     "text": [
      "70\n",
      "238\n",
      "7\n",
      "26\n"
     ]
    }
   ],
   "source": [
    "# Define dirs and files\n",
    "train_dir = 'mldata/training/'\n",
    "validation_dir = 'mldata/validation/'\n",
    "\n",
    "train_wash_dir = os.path.join(train_dir,'wash')\n",
    "train_nowash_dir = os.path.join(train_dir,'nowash')\n",
    "validation_wash_dir = os.path.join(validation_dir,'wash')\n",
    "validation_nowash_dir = os.path.join(validation_dir,'nowash')\n",
    "\n",
    "train_wash_fnames = os.listdir(train_wash_dir)\n",
    "train_nowash_fnames = os.listdir(train_nowash_dir)\n",
    "validation_wash_fnames = os.listdir(validation_wash_dir)\n",
    "validation_nowash_fnames = os.listdir(validation_nowash_dir)\n",
    "\n",
    "\n",
    "print(len(os.listdir(train_wash_dir)))\n",
    "print(len(os.listdir(train_nowash_dir)))\n",
    "print(len(os.listdir(validation_wash_dir)))\n",
    "print(len(os.listdir(validation_nowash_dir)))\n",
    "\n",
    "total_train=len(os.listdir(train_wash_dir))+ len(os.listdir(train_nowash_dir))\n",
    "total_val=len(os.listdir(validation_wash_dir))+ len(os.listdir(validation_nowash_dir))"
   ]
  },
  {
   "cell_type": "code",
   "execution_count": 11,
   "metadata": {},
   "outputs": [
    {
     "name": "stdout",
     "output_type": "stream",
     "text": [
      "Found 308 images belonging to 2 classes.\n",
      "Found 33 images belonging to 2 classes.\n"
     ]
    }
   ],
   "source": [
    "from tensorflow.keras.preprocessing.image import ImageDataGenerator\n",
    "\n",
    "# Add our data-augmentation parameters to ImageDataGenerator\n",
    "train_datagen = ImageDataGenerator( rescale =1./255.,\n",
    "                                   rotation_range = 40,\n",
    "                                   width_shift_range = 0.2,\n",
    "                                   height_shift_range = 0.2,\n",
    "                                   shear_range = 0.2,\n",
    "                                   zoom_range = 0.2,\n",
    "                                   horizontal_flip = True)\n",
    "\n",
    "# rescale val data\n",
    "val_datagen = ImageDataGenerator(rescale = 1./255.)\n",
    "\n",
    "#set batch Size\n",
    "batch_size = 10\n",
    "\n",
    "# Flow training images in batches \n",
    "train_generator = train_datagen.flow_from_directory(train_dir,\n",
    "                                                    batch_size = batch_size,\n",
    "                                                    class_mode = 'binary',\n",
    "                                                    target_size = (300,300))\n",
    "\n",
    "# Flow validation images in batches \n",
    "validation_generator =  val_datagen.flow_from_directory( validation_dir,\n",
    "                                                         batch_size = batch_size,\n",
    "                                                         class_mode = 'binary',\n",
    "                                                         target_size = (300,300))\n"
   ]
  },
  {
   "cell_type": "code",
   "execution_count": 5,
   "metadata": {},
   "outputs": [
    {
     "name": "stdout",
     "output_type": "stream",
     "text": [
      "WARNING:tensorflow:From /usr/lib/python3/dist-packages/tensorflow_core/python/ops/resource_variable_ops.py:1630: calling BaseResourceVariable.__init__ (from tensorflow.python.ops.resource_variable_ops) with constraint is deprecated and will be removed in a future version.\n",
      "Instructions for updating:\n",
      "If using Keras pass *_constraint arguments to layers.\n"
     ]
    }
   ],
   "source": [
    "#sample model\n",
    "model = tf.keras.models.Sequential([\n",
    "    #  input shape is size of the image 300x300 with 3 bytes color\n",
    "    #first convolution\n",
    "    tf.keras.layers.Conv2D(16, (3,3), activation='relu', input_shape=(300, 300, 3)),\n",
    "    tf.keras.layers.MaxPooling2D(2, 2),\n",
    "    # second convolution\n",
    "    tf.keras.layers.Conv2D(32, (3,3), activation='relu'),\n",
    "    tf.keras.layers.MaxPooling2D(2,2),\n",
    "    # third convolution\n",
    "    tf.keras.layers.Conv2D(64, (3,3), activation='relu'),\n",
    "    tf.keras.layers.MaxPooling2D(2,2),\n",
    "    # fourth convolution\n",
    "    tf.keras.layers.Conv2D(64, (3,3), activation='relu'),\n",
    "    tf.keras.layers.MaxPooling2D(2,2),\n",
    "    # fifth convolution\n",
    "    tf.keras.layers.Conv2D(64, (3,3), activation='relu'),\n",
    "    tf.keras.layers.MaxPooling2D(2,2),\n",
    "    # Flatten for the DNN\n",
    "    tf.keras.layers.Flatten(),\n",
    "    # hidden layerw/ 512 neurons\n",
    "    tf.keras.layers.Dense(512, activation='relu'),\n",
    "    # 1 output neuron. 0 for 'washover' and 1 for 'no wash'\n",
    "    tf.keras.layers.Dense(1, activation='sigmoid')\n",
    "])"
   ]
  },
  {
   "cell_type": "code",
   "execution_count": 6,
   "metadata": {},
   "outputs": [],
   "source": [
    "All_The_Metrics = [\n",
    "      tf.keras.metrics.TruePositives(name='tp'),\n",
    "      tf.keras.metrics.FalsePositives(name='fp'),\n",
    "      tf.keras.metrics.TrueNegatives(name='tn'),\n",
    "      tf.keras.metrics.FalseNegatives(name='fn'), \n",
    "      tf.keras.metrics.BinaryAccuracy(name='acc'),\n",
    "      tf.keras.metrics.Precision(name='precision'),\n",
    "      tf.keras.metrics.Recall(name='recall'),\n",
    "      tf.keras.metrics.AUC(name='auc'),\n",
    "]\n"
   ]
  },
  {
   "cell_type": "code",
   "execution_count": 7,
   "metadata": {},
   "outputs": [
    {
     "name": "stdout",
     "output_type": "stream",
     "text": [
      "WARNING:tensorflow:From /usr/lib/python3/dist-packages/tensorflow_core/python/ops/nn_impl.py:183: where (from tensorflow.python.ops.array_ops) is deprecated and will be removed in a future version.\n",
      "Instructions for updating:\n",
      "Use tf.where in 2.0, which has the same broadcast rule as np.where\n"
     ]
    }
   ],
   "source": [
    "from tensorflow.keras.optimizers import RMSprop\n",
    "\n",
    "model.compile(loss='binary_crossentropy',\n",
    "              optimizer=RMSprop(lr=1e-4),\n",
    "              metrics=All_The_Metrics)"
   ]
  },
  {
   "cell_type": "code",
   "execution_count": 12,
   "metadata": {},
   "outputs": [
    {
     "name": "stdout",
     "output_type": "stream",
     "text": [
      "Epoch 1/2\n",
      "29/30 [============================>.] - ETA: 4s - loss: 0.4602 - tp: 0.0000e+00 - fp: 0.0000e+00 - tn: 223.0000 - fn: 65.0000 - acc: 0.7743 - precision: 0.0000e+00 - recall: 0.0000e+00 - auc: 0.7938Epoch 1/2\n",
      "30/30 [==============================] - 150s 5s/step - loss: 0.4631 - tp: 0.0000e+00 - fp: 0.0000e+00 - tn: 230.0000 - fn: 68.0000 - acc: 0.7718 - precision: 0.0000e+00 - recall: 0.0000e+00 - auc: 0.7925 - val_loss: 0.4228 - val_tp: 0.0000e+00 - val_fp: 0.0000e+00 - val_tn: 23.0000 - val_fn: 7.0000 - val_acc: 0.7667 - val_precision: 0.0000e+00 - val_recall: 0.0000e+00 - val_auc: 0.8602\n",
      "Epoch 2/2\n",
      "29/30 [============================>.] - ETA: 4s - loss: 0.4003 - tp: 6.0000 - fp: 1.0000 - tn: 225.0000 - fn: 56.0000 - acc: 0.8021 - precision: 0.8571 - recall: 0.0968 - auc: 0.8369Epoch 1/2\n",
      "30/30 [==============================] - 150s 5s/step - loss: 0.4001 - tp: 6.0000 - fp: 1.0000 - tn: 233.0000 - fn: 58.0000 - acc: 0.8020 - precision: 0.8571 - recall: 0.0938 - auc: 0.8370 - val_loss: 0.3993 - val_tp: 1.0000 - val_fp: 0.0000e+00 - val_tn: 23.0000 - val_fn: 6.0000 - val_acc: 0.8000 - val_precision: 1.0000 - val_recall: 0.1429 - val_auc: 0.8944\n"
     ]
    }
   ],
   "source": [
    "callbacks = myCallback()\n",
    "history = model.fit_generator(train_generator,\n",
    "                              validation_data= validation_generator,\n",
    "                              steps_per_epoch = total_train // batch_size,\n",
    "                              epochs= 2,\n",
    "                              validation_steps = total_val // batch_size,\n",
    "                              callbacks =[callbacks])"
   ]
  },
  {
   "cell_type": "code",
   "execution_count": 13,
   "metadata": {},
   "outputs": [
    {
     "data": {
      "image/png": "[encoded data removed]",
      "text/plain": [
       "<matplotlib.figure.Figure at 0x7f5cac269f98>"
      ]
     },
     "metadata": {},
     "output_type": "display_data"
    },
    {
     "data": {
      "text/plain": [
       "<matplotlib.figure.Figure at 0x7f5d28b49358>"
      ]
     },
     "metadata": {},
     "output_type": "display_data"
    }
   ],
   "source": [
    "%matplotlib inline\n",
    "import matplotlib.pyplot as plt\n",
    "acc = history.history['acc']\n",
    "val_acc = history.history['val_acc']\n",
    "loss = history.history['loss']\n",
    "val_loss = history.history['val_loss']\n",
    "\n",
    "epochs = range(len(acc))\n",
    "\n",
    "plt.plot(epochs, acc, 'r', label='Training accuracy')\n",
    "plt.plot(epochs, val_acc, 'b', label='Validation accuracy')\n",
    "plt.title('Training and validation accuracy')\n",
    "plt.legend(loc=0)\n",
    "plt.figure()\n",
    "\n",
    "\n",
    "plt.show()"
   ]
  },
  {
   "cell_type": "code",
   "execution_count": 14,
   "metadata": {},
   "outputs": [],
   "source": [
    "#Look and convolutions\n",
    "#look at prediction successes and failures\n"
   ]
  },
  {
   "cell_type": "code",
   "execution_count": 15,
   "metadata": {},
   "outputs": [
    {
     "data": {
      "image/png": "[encoded data removed]",
      "text/plain": [
       "<matplotlib.figure.Figure at 0x7f5d28aff4a8>"
      ]
     },
     "metadata": {},
     "output_type": "display_data"
    }
   ],
   "source": [
    "colors = plt.rcParams['axes.prop_cycle'].by_key()['color']\n",
    "def plot_metrics(history):\n",
    "  metrics =  ['loss', 'auc', 'precision', 'recall']\n",
    "  for n, metric in enumerate(metrics):\n",
    "    name = metric.replace(\"_\",\" \").capitalize()\n",
    "    plt.subplot(2,2,n+1)\n",
    "    plt.plot(history.epoch,  history.history[metric], color=colors[0], label='Train')\n",
    "    plt.plot(history.epoch, history.history['val_'+metric],\n",
    "             color=colors[0], linestyle=\"--\", label='Val')\n",
    "    plt.xlabel('Epoch')\n",
    "    plt.ylabel(name)\n",
    "    if metric == 'loss':\n",
    "      plt.ylim([0, plt.ylim()[1]])\n",
    "    elif metric == 'auc':\n",
    "      plt.ylim([0.8,1])\n",
    "    else:\n",
    "      plt.ylim([0,1])\n",
    "\n",
    "    plt.legend()\n",
    "\n",
    "plot_metrics(history)\n"
   ]
  }
 ],
 "metadata": {
  "kernelspec": {
   "display_name": "Python 3",
   "language": "python",
   "name": "python3"
  },
  "language_info": {
   "codemirror_mode": {
    "name": "ipython",
    "version": 3
   },
   "file_extension": ".py",
   "mimetype": "text/x-python",
   "name": "python",
   "nbconvert_exporter": "python",
   "pygments_lexer": "ipython3",
   "version": "3.6.9"
  }
 },
 "nbformat": 4,
 "nbformat_minor": 2
}
