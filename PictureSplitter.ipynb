{
 "cells": [
  {
   "cell_type": "code",
   "execution_count": 13,
   "metadata": {},
   "outputs": [],
   "source": [
    "import os, shutil, random\n",
    "from shutil import copyfile"
   ]
  },
  {
   "cell_type": "code",
   "execution_count": 14,
   "metadata": {},
   "outputs": [],
   "source": [
    "# function to split_data \n",
    "def split_data(SOURCE, TRAINING, TESTING, SPLIT_SIZE):\n",
    "    ImageFiles = []\n",
    "    for filename in os.listdir(SOURCE):\n",
    "        if os.path.getsize(SOURCE + filename) > 0:\n",
    "            ImageFiles.append(filename)\n",
    "    \n",
    "    trainsize = int(SPLIT_SIZE * len(ImageFiles))\n",
    "    validationsize = int(len(ImageFiles) * (1-SPLIT_SIZE))\n",
    "    RandomImageFiles = random.sample(ImageFiles, len(ImageFiles))\n",
    "    trainfiles = RandomImageFiles[0:trainsize]\n",
    "    testfiles = RandomImageFiles[trainsize:(trainsize+validationsize)]\n",
    "    \n",
    "    for filename in trainfiles:\n",
    "        TheFileToMove = SOURCE + filename\n",
    "        WhereToMove = TRAINING + filename\n",
    "        copyfile(TheFileToMove, WhereToMove)\n",
    "    \n",
    "    for filename in testfiles:\n",
    "        TheFileToMove = SOURCE + filename\n",
    "        WhereToMove = TESTING + filename\n",
    "        copyfile(TheFileToMove, WhereToMove)\n",
    "        \n",
    "WASH_SOURCE_DIR = \"../data/raw/washover/\"\n",
    "TRAINING_WASH_DIR = \"../data/training/wash/\"\n",
    "VALIDATION_WASH_DIR = \"../data/validation/wash/\"\n",
    "NOWASH_SOURCE_DIR = \"../data/raw/wowashover/\"\n",
    "TRAINING_NOWASH_DIR = \"../data/training/nowash/\"\n",
    "VALIDATION_NOWASH_DIR = \"../data/validation/nowash/\"\n",
    "\n",
    "split_size = .9\n",
    "split_data(WASH_SOURCE_DIR, TRAINING_WASH_DIR, VALIDATION_WASH_DIR, split_size)\n",
    "split_data(NOWASH_SOURCE_DIR, TRAINING_NOWASH_DIR, VALIDATION_NOWASH_DIR, split_size)"
   ]
  }
 ],
 "metadata": {
  "kernelspec": {
   "display_name": "Python 3",
   "language": "python",
   "name": "python3"
  },
  "language_info": {
   "codemirror_mode": {
    "name": "ipython",
    "version": 3
   },
   "file_extension": ".py",
   "mimetype": "text/x-python",
   "name": "python",
   "nbconvert_exporter": "python",
   "pygments_lexer": "ipython3",
   "version": "3.8.2"
  }
 },
 "nbformat": 4,
 "nbformat_minor": 2
}
