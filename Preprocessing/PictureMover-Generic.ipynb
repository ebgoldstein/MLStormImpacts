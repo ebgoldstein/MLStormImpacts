{
 "cells": [
  {
   "cell_type": "code",
   "execution_count": 11,
   "metadata": {},
   "outputs": [],
   "source": [
    "import shutil, os\n",
    "import pandas as pd"
   ]
  },
  {
   "cell_type": "code",
   "execution_count": null,
   "metadata": {},
   "outputs": [],
   "source": [
    "#import a csv that lists names of files with no washover\n",
    "NoWash_df = pd.read_csv(\"FILE.csv\", header=None, names =[\"FileName\"])\n",
    "\n",
    "#add the path\n",
    "NoWash_df['FileName'] = '/path/to/the/psi_collect/images/' + NoWash_df['FileName'].astype(str)\n",
    "\n",
    "#pull out the list from the df\n",
    "NoWash_list= NoWash_df['FileName'].tolist()\n",
    "\n",
    "#move the files to the ML staging area\n",
    "for f in NoWash_list:\n",
    "    shutil.copy(f, '/Path/to/the/ML/repo/NoWashover')"
   ]
  },
  {
   "cell_type": "code",
   "execution_count": 36,
   "metadata": {},
   "outputs": [],
   "source": [
    "#import a csv that lists names of files with washover\n",
    "Wash_df = pd.read_csv(\"FILE.csv\", header=None, names =[\"FileName\"])\n",
    "\n",
    "#add the path\n",
    "Wash_df['FileName'] = '/path/to/the/psi_collect/images/' + Wash_df['FileName'].astype(str)\n",
    "\n",
    "#pull out the list from the df\n",
    "Wash_list= Wash_df['FileName'].tolist()\n",
    "\n",
    "#move the files to the ML staging area\n",
    "for f in Wash_list:\n",
    "    shutil.copy(f, '/Path/to/the/ML/repo/Washover')"
   ]
  }
 ],
 "metadata": {
  "kernelspec": {
   "display_name": "Python 3",
   "language": "python",
   "name": "python3"
  },
  "language_info": {
   "codemirror_mode": {
    "name": "ipython",
    "version": 3
   },
   "file_extension": ".py",
   "mimetype": "text/x-python",
   "name": "python",
   "nbconvert_exporter": "python",
   "pygments_lexer": "ipython3",
   "version": "3.6.9"
  }
 },
 "nbformat": 4,
 "nbformat_minor": 2
}
