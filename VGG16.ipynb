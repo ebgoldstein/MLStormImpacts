{
 "cells": [
  {
   "cell_type": "code",
   "execution_count": 1,
   "metadata": {},
   "outputs": [
    {
     "name": "stdout",
     "output_type": "stream",
     "text": [
      "TF version: 2.2.0\n",
      " GPU: /device:GPU:0\n"
     ]
    }
   ],
   "source": [
    "import os\n",
    "import tensorflow as tf\n",
    "from tensorflow.keras import layers\n",
    "from tensorflow.keras import Model\n",
    "from os import getcwd\n",
    "import sys\n",
    "\n",
    "#Check TensorFlow Version\n",
    "print('TF version: {}' .format(tf.__version__))\n",
    "\n",
    "#Check for GPU utilization\n",
    "if tf.test.gpu_device_name():\n",
    "    print(' GPU: {}'.format(tf.test.gpu_device_name()))\n",
    "else:\n",
    "    print(\"No GPU\")"
   ]
  },
  {
   "cell_type": "code",
   "execution_count": 2,
   "metadata": {},
   "outputs": [],
   "source": [
    "class myCallback(tf.keras.callbacks.Callback):\n",
    "    def on_epoch_end(self,epoch,logs={}):\n",
    "        if(logs.get('acc')>=0.90):\n",
    "            print(\"\\nReached 90% accuracy \")\n",
    "            self.model.stop_training = True\n",
    "\n",
    "callbacks = myCallback()"
   ]
  },
  {
   "cell_type": "code",
   "execution_count": 3,
   "metadata": {},
   "outputs": [
    {
     "name": "stdout",
     "output_type": "stream",
     "text": [
      "115\n",
      "186\n",
      "16\n",
      "23\n"
     ]
    }
   ],
   "source": [
    "# Define dirs and files\n",
    "train_dir = '../data/training/'\n",
    "validation_dir = '../data/validation/'\n",
    "\n",
    "train_wash_dir = os.path.join(train_dir,'wash')\n",
    "train_nowash_dir = os.path.join(train_dir,'nowash')\n",
    "validation_wash_dir = os.path.join(validation_dir,'wash')\n",
    "validation_nowash_dir = os.path.join(validation_dir,'nowash')\n",
    "\n",
    "train_wash_fnames = os.listdir(train_wash_dir)\n",
    "train_nowash_fnames = os.listdir(train_nowash_dir)\n",
    "validation_wash_fnames = os.listdir(validation_wash_dir)\n",
    "validation_nowash_fnames = os.listdir(validation_nowash_dir)\n",
    "\n",
    "\n",
    "print(len(os.listdir(train_wash_dir)))\n",
    "print(len(os.listdir(train_nowash_dir)))\n",
    "print(len(os.listdir(validation_wash_dir)))\n",
    "print(len(os.listdir(validation_nowash_dir)))\n",
    "\n",
    "total_train=len(os.listdir(train_wash_dir))+ len(os.listdir(train_nowash_dir))\n",
    "total_val=len(os.listdir(validation_wash_dir))+ len(os.listdir(validation_nowash_dir))"
   ]
  },
  {
   "cell_type": "code",
   "execution_count": 4,
   "metadata": {},
   "outputs": [
    {
     "name": "stdout",
     "output_type": "stream",
     "text": [
      "Found 301 images belonging to 2 classes.\n",
      "Found 39 images belonging to 2 classes.\n"
     ]
    }
   ],
   "source": [
    "from tensorflow.keras.preprocessing.image import ImageDataGenerator\n",
    "\n",
    "# Add our data-augmentation parameters to ImageDataGenerator\n",
    "train_datagen = ImageDataGenerator( rescale =1./255.,\n",
    "                                   rotation_range = 40,\n",
    "                                   width_shift_range = 0.2,\n",
    "                                   height_shift_range = 0.2,\n",
    "                                   shear_range = 0.2,\n",
    "                                   zoom_range = 0.2,\n",
    "                                   horizontal_flip = True)\n",
    "\n",
    "# rescale val data\n",
    "val_datagen = ImageDataGenerator(rescale = 1./255.)\n",
    "\n",
    "#set batch Size\n",
    "batch_size = 10\n",
    "\n",
    "# Flow training images in batches \n",
    "train_generator = train_datagen.flow_from_directory(train_dir,\n",
    "                                                    batch_size = batch_size,\n",
    "                                                    class_mode = 'binary',\n",
    "                                                    target_size = (300,300))\n",
    "\n",
    "# Flow validation images in batches \n",
    "validation_generator =  val_datagen.flow_from_directory( validation_dir,\n",
    "                                                         batch_size = batch_size,\n",
    "                                                         class_mode = 'binary',\n",
    "                                                         target_size = (300,300))\n"
   ]
  },
  {
   "cell_type": "code",
   "execution_count": 5,
   "metadata": {},
   "outputs": [],
   "source": [
    "acc_metric = tf.keras.metrics.BinaryAccuracy(name='acc')"
   ]
  },
  {
   "cell_type": "code",
   "execution_count": 6,
   "metadata": {},
   "outputs": [
    {
     "name": "stdout",
     "output_type": "stream",
     "text": [
      "Model: \"vgg16\"\n",
      "_________________________________________________________________\n",
      "Layer (type)                 Output Shape              Param #   \n",
      "=================================================================\n",
      "input_1 (InputLayer)         [(None, 300, 300, 3)]     0         \n",
      "_________________________________________________________________\n",
      "block1_conv1 (Conv2D)        (None, 300, 300, 64)      1792      \n",
      "_________________________________________________________________\n",
      "block1_conv2 (Conv2D)        (None, 300, 300, 64)      36928     \n",
      "_________________________________________________________________\n",
      "block1_pool (MaxPooling2D)   (None, 150, 150, 64)      0         \n",
      "_________________________________________________________________\n",
      "block2_conv1 (Conv2D)        (None, 150, 150, 128)     73856     \n",
      "_________________________________________________________________\n",
      "block2_conv2 (Conv2D)        (None, 150, 150, 128)     147584    \n",
      "_________________________________________________________________\n",
      "block2_pool (MaxPooling2D)   (None, 75, 75, 128)       0         \n",
      "_________________________________________________________________\n",
      "block3_conv1 (Conv2D)        (None, 75, 75, 256)       295168    \n",
      "_________________________________________________________________\n",
      "block3_conv2 (Conv2D)        (None, 75, 75, 256)       590080    \n",
      "_________________________________________________________________\n",
      "block3_conv3 (Conv2D)        (None, 75, 75, 256)       590080    \n",
      "_________________________________________________________________\n",
      "block3_pool (MaxPooling2D)   (None, 37, 37, 256)       0         \n",
      "_________________________________________________________________\n",
      "block4_conv1 (Conv2D)        (None, 37, 37, 512)       1180160   \n",
      "_________________________________________________________________\n",
      "block4_conv2 (Conv2D)        (None, 37, 37, 512)       2359808   \n",
      "_________________________________________________________________\n",
      "block4_conv3 (Conv2D)        (None, 37, 37, 512)       2359808   \n",
      "_________________________________________________________________\n",
      "block4_pool (MaxPooling2D)   (None, 18, 18, 512)       0         \n",
      "_________________________________________________________________\n",
      "block5_conv1 (Conv2D)        (None, 18, 18, 512)       2359808   \n",
      "_________________________________________________________________\n",
      "block5_conv2 (Conv2D)        (None, 18, 18, 512)       2359808   \n",
      "_________________________________________________________________\n",
      "block5_conv3 (Conv2D)        (None, 18, 18, 512)       2359808   \n",
      "_________________________________________________________________\n",
      "block5_pool (MaxPooling2D)   (None, 9, 9, 512)         0         \n",
      "=================================================================\n",
      "Total params: 14,714,688\n",
      "Trainable params: 0\n",
      "Non-trainable params: 14,714,688\n",
      "_________________________________________________________________\n"
     ]
    }
   ],
   "source": [
    "#base model, fully trainable but started w/ imagenet weights\n",
    "base_model = tf.keras.applications.VGG16(input_shape=(300,300,3), include_top=False, weights='imagenet')\n",
    "\n",
    "base_model.trainable = False\n",
    "base_model.summary()\n"
   ]
  },
  {
   "cell_type": "code",
   "execution_count": 7,
   "metadata": {},
   "outputs": [
    {
     "name": "stdout",
     "output_type": "stream",
     "text": [
      "shape of last layer is  (None, 9, 9, 512)\n",
      "Model: \"model\"\n",
      "_________________________________________________________________\n",
      "Layer (type)                 Output Shape              Param #   \n",
      "=================================================================\n",
      "input_1 (InputLayer)         [(None, 300, 300, 3)]     0         \n",
      "_________________________________________________________________\n",
      "block1_conv1 (Conv2D)        (None, 300, 300, 64)      1792      \n",
      "_________________________________________________________________\n",
      "block1_conv2 (Conv2D)        (None, 300, 300, 64)      36928     \n",
      "_________________________________________________________________\n",
      "block1_pool (MaxPooling2D)   (None, 150, 150, 64)      0         \n",
      "_________________________________________________________________\n",
      "block2_conv1 (Conv2D)        (None, 150, 150, 128)     73856     \n",
      "_________________________________________________________________\n",
      "block2_conv2 (Conv2D)        (None, 150, 150, 128)     147584    \n",
      "_________________________________________________________________\n",
      "block2_pool (MaxPooling2D)   (None, 75, 75, 128)       0         \n",
      "_________________________________________________________________\n",
      "block3_conv1 (Conv2D)        (None, 75, 75, 256)       295168    \n",
      "_________________________________________________________________\n",
      "block3_conv2 (Conv2D)        (None, 75, 75, 256)       590080    \n",
      "_________________________________________________________________\n",
      "block3_conv3 (Conv2D)        (None, 75, 75, 256)       590080    \n",
      "_________________________________________________________________\n",
      "block3_pool (MaxPooling2D)   (None, 37, 37, 256)       0         \n",
      "_________________________________________________________________\n",
      "block4_conv1 (Conv2D)        (None, 37, 37, 512)       1180160   \n",
      "_________________________________________________________________\n",
      "block4_conv2 (Conv2D)        (None, 37, 37, 512)       2359808   \n",
      "_________________________________________________________________\n",
      "block4_conv3 (Conv2D)        (None, 37, 37, 512)       2359808   \n",
      "_________________________________________________________________\n",
      "block4_pool (MaxPooling2D)   (None, 18, 18, 512)       0         \n",
      "_________________________________________________________________\n",
      "block5_conv1 (Conv2D)        (None, 18, 18, 512)       2359808   \n",
      "_________________________________________________________________\n",
      "block5_conv2 (Conv2D)        (None, 18, 18, 512)       2359808   \n",
      "_________________________________________________________________\n",
      "block5_conv3 (Conv2D)        (None, 18, 18, 512)       2359808   \n",
      "_________________________________________________________________\n",
      "block5_pool (MaxPooling2D)   (None, 9, 9, 512)         0         \n",
      "_________________________________________________________________\n",
      "flatten (Flatten)            (None, 41472)             0         \n",
      "_________________________________________________________________\n",
      "dense (Dense)                (None, 4096)              169873408 \n",
      "_________________________________________________________________\n",
      "dropout (Dropout)            (None, 4096)              0         \n",
      "_________________________________________________________________\n",
      "dense_1 (Dense)              (None, 4096)              16781312  \n",
      "_________________________________________________________________\n",
      "dropout_1 (Dropout)          (None, 4096)              0         \n",
      "_________________________________________________________________\n",
      "dense_2 (Dense)              (None, 1)                 4097      \n",
      "=================================================================\n",
      "Total params: 201,373,505\n",
      "Trainable params: 186,658,817\n",
      "Non-trainable params: 14,714,688\n",
      "_________________________________________________________________\n"
     ]
    }
   ],
   "source": [
    "final_layer = base_model.get_layer('block5_pool')\n",
    "print('shape of last layer is ', final_layer.output_shape)\n",
    "final_base_output = final_layer.output\n",
    "\n",
    "\n",
    "#add the last layer (to mimic Sinha et al 2019 Avalanche)\n",
    "# Flatten the output layer to 1 dimension\n",
    "x = layers.Flatten()(final_base_output )\n",
    "# add a FC layer w/ 4096 hidden units & ReLU\n",
    "x = layers.Dense(4096, activation='relu')(x)\n",
    "# add Dropout\n",
    "x = layers.Dropout(0.5)(x)\n",
    "# add a FC layer w/ 4096 hidden units & ReLU\n",
    "x = layers.Dense(4096, activation='relu')(x) \n",
    "# add Dropout\n",
    "x = layers.Dropout(0.5)(x)\n",
    "# Add a final sigmoid layer for classification\n",
    "x = layers.Dense(1, activation='sigmoid')(x)           \n",
    "\n",
    "model = Model(base_model.input, x) \n",
    "\n",
    "model.summary()"
   ]
  },
  {
   "cell_type": "code",
   "execution_count": 8,
   "metadata": {},
   "outputs": [],
   "source": [
    "from tensorflow.keras.optimizers import RMSprop\n",
    "\n",
    "model.compile(loss='binary_crossentropy',\n",
    "              optimizer=RMSprop(lr=1e-4),\n",
    "              metrics = acc_metric)"
   ]
  },
  {
   "cell_type": "code",
   "execution_count": 9,
   "metadata": {},
   "outputs": [
    {
     "name": "stdout",
     "output_type": "stream",
     "text": [
      "Epoch 1/100\n",
      "30/30 [==============================] - 61s 2s/step - loss: 2.2663 - acc: 0.5500 - val_loss: 0.7690 - val_acc: 0.6333\n",
      "Epoch 2/100\n",
      "30/30 [==============================] - 62s 2s/step - loss: 0.8672 - acc: 0.7113 - val_loss: 1.0400 - val_acc: 0.6333\n",
      "Epoch 3/100\n",
      "30/30 [==============================] - 61s 2s/step - loss: 0.7491 - acc: 0.7182 - val_loss: 0.9877 - val_acc: 0.6667\n",
      "Epoch 4/100\n",
      "30/30 [==============================] - 64s 2s/step - loss: 0.4375 - acc: 0.8351 - val_loss: 0.8772 - val_acc: 0.7333\n",
      "Epoch 5/100\n",
      "30/30 [==============================] - 62s 2s/step - loss: 0.7528 - acc: 0.8007 - val_loss: 0.8499 - val_acc: 0.7667\n",
      "Epoch 6/100\n",
      "30/30 [==============================] - 61s 2s/step - loss: 0.5180 - acc: 0.8144 - val_loss: 0.8554 - val_acc: 0.7667\n",
      "Epoch 7/100\n",
      "30/30 [==============================] - 62s 2s/step - loss: 0.5738 - acc: 0.8213 - val_loss: 0.5496 - val_acc: 0.8000\n",
      "Epoch 8/100\n",
      "30/30 [==============================] - 58s 2s/step - loss: 0.6646 - acc: 0.8041 - val_loss: 0.3711 - val_acc: 0.8667\n",
      "Epoch 9/100\n",
      "30/30 [==============================] - 63s 2s/step - loss: 0.5253 - acc: 0.8385 - val_loss: 1.5650 - val_acc: 0.6667\n",
      "Epoch 10/100\n",
      "30/30 [==============================] - 61s 2s/step - loss: 0.5374 - acc: 0.8213 - val_loss: 1.8524 - val_acc: 0.6333\n",
      "Epoch 11/100\n",
      "30/30 [==============================] - 62s 2s/step - loss: 0.5682 - acc: 0.8076 - val_loss: 0.7349 - val_acc: 0.8000\n",
      "Epoch 12/100\n",
      "30/30 [==============================] - 63s 2s/step - loss: 0.4894 - acc: 0.8282 - val_loss: 0.7361 - val_acc: 0.7667\n",
      "Epoch 13/100\n",
      "30/30 [==============================] - 60s 2s/step - loss: 0.5303 - acc: 0.8110 - val_loss: 0.5844 - val_acc: 0.7333\n",
      "Epoch 14/100\n",
      "30/30 [==============================] - 62s 2s/step - loss: 0.5140 - acc: 0.8282 - val_loss: 0.8194 - val_acc: 0.7000\n",
      "Epoch 15/100\n",
      "30/30 [==============================] - 62s 2s/step - loss: 0.3914 - acc: 0.8660 - val_loss: 1.2350 - val_acc: 0.7333\n",
      "Epoch 16/100\n",
      "30/30 [==============================] - 61s 2s/step - loss: 0.6129 - acc: 0.8179 - val_loss: 0.5701 - val_acc: 0.8333\n",
      "Epoch 17/100\n",
      "30/30 [==============================] - 61s 2s/step - loss: 0.4414 - acc: 0.8488 - val_loss: 1.2461 - val_acc: 0.7000\n",
      "Epoch 18/100\n",
      "30/30 [==============================] - 60s 2s/step - loss: 0.4401 - acc: 0.8591 - val_loss: 0.9048 - val_acc: 0.7000\n",
      "Epoch 19/100\n",
      "30/30 [==============================] - 61s 2s/step - loss: 0.4178 - acc: 0.8247 - val_loss: 0.8028 - val_acc: 0.8000\n",
      "Epoch 20/100\n",
      "30/30 [==============================] - 63s 2s/step - loss: 0.4154 - acc: 0.8488 - val_loss: 0.8018 - val_acc: 0.7333\n",
      "Epoch 21/100\n",
      "30/30 [==============================] - 61s 2s/step - loss: 0.4272 - acc: 0.8522 - val_loss: 0.4821 - val_acc: 0.8000\n",
      "Epoch 22/100\n",
      "30/30 [==============================] - 62s 2s/step - loss: 0.4049 - acc: 0.8866 - val_loss: 0.8074 - val_acc: 0.7667\n",
      "Epoch 23/100\n",
      "30/30 [==============================] - 63s 2s/step - loss: 0.4331 - acc: 0.8557 - val_loss: 1.5963 - val_acc: 0.6667\n",
      "Epoch 24/100\n",
      "30/30 [==============================] - 61s 2s/step - loss: 0.4178 - acc: 0.8282 - val_loss: 0.6215 - val_acc: 0.7667\n",
      "Epoch 25/100\n",
      "30/30 [==============================] - 62s 2s/step - loss: 0.4198 - acc: 0.8591 - val_loss: 1.4089 - val_acc: 0.6333\n",
      "Epoch 26/100\n",
      "30/30 [==============================] - 62s 2s/step - loss: 0.4238 - acc: 0.8660 - val_loss: 0.8298 - val_acc: 0.8667\n",
      "Epoch 27/100\n",
      "30/30 [==============================] - 62s 2s/step - loss: 0.4185 - acc: 0.8625 - val_loss: 0.8371 - val_acc: 0.7667\n",
      "Epoch 28/100\n",
      "30/30 [==============================] - 60s 2s/step - loss: 0.4514 - acc: 0.8557 - val_loss: 0.8224 - val_acc: 0.7667\n",
      "Epoch 29/100\n",
      "30/30 [==============================] - 60s 2s/step - loss: 0.4826 - acc: 0.8522 - val_loss: 0.6682 - val_acc: 0.7667\n",
      "Epoch 30/100\n",
      "30/30 [==============================] - 60s 2s/step - loss: 0.3599 - acc: 0.8694 - val_loss: 0.7395 - val_acc: 0.8000\n",
      "Epoch 31/100\n",
      "30/30 [==============================] - 59s 2s/step - loss: 0.3851 - acc: 0.8694 - val_loss: 0.6140 - val_acc: 0.7667\n",
      "Epoch 32/100\n",
      "30/30 [==============================] - 62s 2s/step - loss: 0.3647 - acc: 0.8800 - val_loss: 1.2684 - val_acc: 0.6333\n",
      "Epoch 33/100\n",
      "30/30 [==============================] - 61s 2s/step - loss: 0.3349 - acc: 0.8832 - val_loss: 0.8185 - val_acc: 0.8333\n",
      "Epoch 34/100\n",
      "30/30 [==============================] - 61s 2s/step - loss: 0.4267 - acc: 0.8419 - val_loss: 0.8667 - val_acc: 0.7667\n",
      "Epoch 35/100\n",
      "30/30 [==============================] - 58s 2s/step - loss: 0.3998 - acc: 0.8694 - val_loss: 0.3956 - val_acc: 0.8333\n",
      "Epoch 36/100\n",
      "30/30 [==============================] - 60s 2s/step - loss: 0.3479 - acc: 0.8797 - val_loss: 0.7297 - val_acc: 0.8000\n",
      "Epoch 37/100\n",
      "30/30 [==============================] - 59s 2s/step - loss: 0.4577 - acc: 0.8488 - val_loss: 0.8358 - val_acc: 0.7667\n",
      "Epoch 38/100\n",
      "30/30 [==============================] - 60s 2s/step - loss: 0.4728 - acc: 0.8454 - val_loss: 0.8277 - val_acc: 0.7000\n",
      "Epoch 39/100\n",
      "30/30 [==============================] - 60s 2s/step - loss: 0.3933 - acc: 0.8729 - val_loss: 1.0873 - val_acc: 0.8000\n",
      "Epoch 40/100\n",
      "30/30 [==============================] - 60s 2s/step - loss: 0.3204 - acc: 0.8763 - val_loss: 0.3777 - val_acc: 0.8000\n",
      "Epoch 41/100\n",
      "30/30 [==============================] - 63s 2s/step - loss: 0.3571 - acc: 0.8900 - val_loss: 0.3914 - val_acc: 0.9000\n",
      "Epoch 42/100\n",
      "30/30 [==============================] - 61s 2s/step - loss: 0.4686 - acc: 0.8454 - val_loss: 0.3467 - val_acc: 0.8333\n",
      "Epoch 43/100\n",
      "30/30 [==============================] - 61s 2s/step - loss: 0.4517 - acc: 0.8351 - val_loss: 0.8498 - val_acc: 0.7333\n",
      "Epoch 44/100\n",
      "30/30 [==============================] - 60s 2s/step - loss: 0.2802 - acc: 0.8900 - val_loss: 1.0521 - val_acc: 0.9000\n",
      "Epoch 45/100\n",
      "30/30 [==============================] - 63s 2s/step - loss: 0.4104 - acc: 0.8351 - val_loss: 0.8133 - val_acc: 0.7667\n",
      "Epoch 46/100\n",
      "30/30 [==============================] - ETA: 0s - loss: 0.2422 - acc: 0.9003\n",
      "Reached 90% accuracy \n",
      "30/30 [==============================] - 62s 2s/step - loss: 0.2422 - acc: 0.9003 - val_loss: 0.7559 - val_acc: 0.8333\n"
     ]
    }
   ],
   "source": [
    "callbacks = myCallback()\n",
    "history = model.fit(train_generator,\n",
    "                              steps_per_epoch = total_train // batch_size,\n",
    "                              validation_data = validation_generator,\n",
    "                              epochs= 100,\n",
    "                              validation_steps =  total_val // batch_size,\n",
    "                              callbacks =[callbacks])"
   ]
  },
  {
   "cell_type": "code",
   "execution_count": 10,
   "metadata": {},
   "outputs": [
    {
     "data": {
      "image/png": "[encoded data removed]",
      "text/plain": [
       "<Figure size 432x288 with 1 Axes>"
      ]
     },
     "metadata": {
      "needs_background": "light"
     },
     "output_type": "display_data"
    },
    {
     "data": {
      "text/plain": [
       "<Figure size 432x288 with 0 Axes>"
      ]
     },
     "metadata": {},
     "output_type": "display_data"
    }
   ],
   "source": [
    "%matplotlib inline\n",
    "import matplotlib.pyplot as plt\n",
    "acc = history.history['acc']\n",
    "val_acc = history.history['val_acc']\n",
    "loss = history.history['loss']\n",
    "val_loss = history.history['val_loss']\n",
    "\n",
    "epochs = range(len(acc))\n",
    "\n",
    "plt.plot(epochs, acc, 'r', label='Training accuracy')\n",
    "plt.plot(epochs, val_acc, 'b', label='Validation accuracy')\n",
    "plt.title('Training and validation accuracy')\n",
    "plt.legend(loc=0)\n",
    "plt.figure()\n",
    "\n",
    "\n",
    "plt.show()"
   ]
  },
  {
   "cell_type": "code",
   "execution_count": 11,
   "metadata": {},
   "outputs": [],
   "source": [
    "#now make a Confusion matrix"
   ]
  }
 ],
 "metadata": {
  "kernelspec": {
   "display_name": "Python 3",
   "language": "python",
   "name": "python3"
  },
  "language_info": {
   "codemirror_mode": {
    "name": "ipython",
    "version": 3
   },
   "file_extension": ".py",
   "mimetype": "text/x-python",
   "name": "python",
   "nbconvert_exporter": "python",
   "pygments_lexer": "ipython3",
   "version": "3.8.2"
  }
 },
 "nbformat": 4,
 "nbformat_minor": 2
}
