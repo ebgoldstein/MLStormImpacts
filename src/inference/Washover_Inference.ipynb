{
 "cells": [
  {
   "cell_type": "code",
   "execution_count": 1,
   "metadata": {},
   "outputs": [
    {
     "name": "stdout",
     "output_type": "stream",
     "text": [
      "TF version: 2.2.0\n",
      " GPU: /device:GPU:0\n"
     ]
    }
   ],
   "source": [
    "import os\n",
    "import tensorflow as tf\n",
    "import numpy as np\n",
    "import matplotlib.pyplot as plt\n",
    "import pandas as pd\n",
    "\n",
    "#Check TensorFlow Version\n",
    "print('TF version: {}' .format(tf.__version__))\n",
    "\n",
    "#Check for GPU utilization\n",
    "if tf.test.gpu_device_name():\n",
    "    print(' GPU: {}'.format(tf.test.gpu_device_name()))\n",
    "else:\n",
    "    print(\"No GPU\")"
   ]
  },
  {
   "cell_type": "code",
   "execution_count": 2,
   "metadata": {},
   "outputs": [],
   "source": [
    "# load model\n",
    "\n",
    "#model path\n",
    "model_path = './saved_MobileNetV2'\n",
    "\n",
    "#load it in to tf\n",
    "model = tf.keras.models.load_model(model_path, compile = True)"
   ]
  },
  {
   "cell_type": "code",
   "execution_count": 17,
   "metadata": {},
   "outputs": [],
   "source": [
    "#load images from Michael Directory\n",
    "\n",
    "aerial_folder = '../data/michael20181011a'\n",
    "\n",
    "\n",
    "aerials = []\n",
    "labels = []\n",
    "for img in os.listdir(aerial_folder):\n",
    "    #pull the name of the image\n",
    "    labels.append(img)\n",
    "    #pull the image\n",
    "    img = os.path.join(aerial_folder, img)\n",
    "    img = tf.keras.preprocessing.image.load_img(img,target_size=(400,400))\n",
    "    img = tf.keras.preprocessing.image.img_to_array(img)\n",
    "    img = img/255\n",
    "    img = np.expand_dims(img,axis=0)\n",
    "    aerials.append(img)\n",
    "    "
   ]
  },
  {
   "cell_type": "code",
   "execution_count": 18,
   "metadata": {},
   "outputs": [
    {
     "name": "stdout",
     "output_type": "stream",
     "text": [
      "[[3.9023369e-16]\n",
      " [7.1777969e-16]\n",
      " [3.1588844e-15]\n",
      " ...\n",
      " [7.0608121e-21]\n",
      " [5.1690423e-14]\n",
      " [3.9374968e-21]]\n"
     ]
    }
   ],
   "source": [
    "#run through model for prediction\n",
    "aerials = np.vstack(aerials)\n",
    "wpreds = model.predict(aerials)\n",
    "print(wpreds)"
   ]
  },
  {
   "cell_type": "code",
   "execution_count": 20,
   "metadata": {},
   "outputs": [
    {
     "data": {
      "text/plain": [
       "(array([2325,   13,    7,   12,    5,    7,    9,   10,    6,  182]),\n",
       " array([0. , 0.1, 0.2, 0.3, 0.4, 0.5, 0.6, 0.7, 0.8, 0.9, 1. ],\n",
       "       dtype=float32))"
      ]
     },
     "execution_count": 20,
     "metadata": {},
     "output_type": "execute_result"
    }
   ],
   "source": [
    "#just an idiot check\n",
    "np.histogram(wpreds)"
   ]
  },
  {
   "cell_type": "code",
   "execution_count": 26,
   "metadata": {},
   "outputs": [
    {
     "name": "stdout",
     "output_type": "stream",
     "text": [
      "[['S28473773.jpg']\n",
      " ['S28469024.jpg']\n",
      " ['C28469908.jpg']\n",
      " ...\n",
      " ['C28471897.jpg']\n",
      " ['S28466887.jpg']\n",
      " ['C28470552.jpg']]\n"
     ]
    }
   ],
   "source": [
    "aerial_labels = np.vstack(np.asarray(labels))\n",
    "print(aerial_labels)"
   ]
  },
  {
   "cell_type": "code",
   "execution_count": 31,
   "metadata": {},
   "outputs": [
    {
     "data": {
      "text/html": [
       "<div>\n",
       "<style scoped>\n",
       "    .dataframe tbody tr th:only-of-type {\n",
       "        vertical-align: middle;\n",
       "    }\n",
       "\n",
       "    .dataframe tbody tr th {\n",
       "        vertical-align: top;\n",
       "    }\n",
       "\n",
       "    .dataframe thead th {\n",
       "        text-align: right;\n",
       "    }\n",
       "</style>\n",
       "<table border=\"1\" class=\"dataframe\">\n",
       "  <thead>\n",
       "    <tr style=\"text-align: right;\">\n",
       "      <th></th>\n",
       "      <th>image</th>\n",
       "      <th>prediction</th>\n",
       "    </tr>\n",
       "  </thead>\n",
       "  <tbody>\n",
       "    <tr>\n",
       "      <th>0</th>\n",
       "      <td>S28473773.jpg</td>\n",
       "      <td>3.902337e-16</td>\n",
       "    </tr>\n",
       "    <tr>\n",
       "      <th>1</th>\n",
       "      <td>S28469024.jpg</td>\n",
       "      <td>7.177797e-16</td>\n",
       "    </tr>\n",
       "    <tr>\n",
       "      <th>2</th>\n",
       "      <td>C28469908.jpg</td>\n",
       "      <td>3.1588844e-15</td>\n",
       "    </tr>\n",
       "    <tr>\n",
       "      <th>3</th>\n",
       "      <td>S28470977.jpg</td>\n",
       "      <td>3.5628615e-17</td>\n",
       "    </tr>\n",
       "    <tr>\n",
       "      <th>4</th>\n",
       "      <td>P28464980.jpg</td>\n",
       "      <td>7.7584195e-15</td>\n",
       "    </tr>\n",
       "  </tbody>\n",
       "</table>\n",
       "</div>"
      ],
      "text/plain": [
       "           image     prediction\n",
       "0  S28473773.jpg   3.902337e-16\n",
       "1  S28469024.jpg   7.177797e-16\n",
       "2  C28469908.jpg  3.1588844e-15\n",
       "3  S28470977.jpg  3.5628615e-17\n",
       "4  P28464980.jpg  7.7584195e-15"
      ]
     },
     "execution_count": 31,
     "metadata": {},
     "output_type": "execute_result"
    }
   ],
   "source": [
    "#make them a dataframe\n",
    "mpred_df = pd.DataFrame(data=np.hstack((aerial_labels,wpreds)), columns=[\"image\", \"prediction\"])\n",
    "mpred_df.head()"
   ]
  },
  {
   "cell_type": "code",
   "execution_count": 35,
   "metadata": {},
   "outputs": [],
   "source": [
    "#import michael csv\n",
    "michael_df = pd.read_csv('../data/Michael.csv')\n",
    "\n",
    "#append/join to catalog df and prediction via the 'image' column in michael.csv save as csv\n",
    "michael_df = michael_df.join(mpred_df.set_index('image'), on='image')\n"
   ]
  },
  {
   "cell_type": "code",
   "execution_count": 36,
   "metadata": {},
   "outputs": [],
   "source": [
    "#save the df as a csv\n",
    "michael_df.to_csv('../data/preds.csv', index=False)"
   ]
  },
  {
   "cell_type": "code",
   "execution_count": null,
   "metadata": {},
   "outputs": [],
   "source": [
    "#see some examples"
   ]
  }
 ],
 "metadata": {
  "kernelspec": {
   "display_name": "Python 3",
   "language": "python",
   "name": "python3"
  },
  "language_info": {
   "codemirror_mode": {
    "name": "ipython",
    "version": 3
   },
   "file_extension": ".py",
   "mimetype": "text/x-python",
   "name": "python",
   "nbconvert_exporter": "python",
   "pygments_lexer": "ipython3",
   "version": "3.8.2"
  }
 },
 "nbformat": 4,
 "nbformat_minor": 4
}
